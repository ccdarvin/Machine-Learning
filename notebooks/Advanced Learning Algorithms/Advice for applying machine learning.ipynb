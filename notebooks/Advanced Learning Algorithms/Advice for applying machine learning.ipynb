{
 "cells": [
  {
   "attachments": {},
   "cell_type": "markdown",
   "metadata": {},
   "source": [
    "# Advice for applying machine learning"
   ]
  },
  {
   "attachments": {},
   "cell_type": "markdown",
   "metadata": {},
   "source": [
    "## Debugging a learning algorithm\n",
    "\n",
    "When it makes unacceptable predictions, it is important to:\n",
    "\n",
    "* Get more training examples\n",
    "* Try smaller sets of features\n",
    "* Try getting additional features\n",
    "* Try adding polynomial features\n",
    "* Try decreasing $\\lambda$\n",
    "* Try increasing $\\lambda$\n"
   ]
  }
 ],
 "metadata": {
  "language_info": {
   "name": "python"
  },
  "orig_nbformat": 4
 },
 "nbformat": 4,
 "nbformat_minor": 2
}
