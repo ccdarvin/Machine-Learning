{
 "cells": [
  {
   "attachments": {},
   "cell_type": "markdown",
   "metadata": {},
   "source": [
    "# Advice for applying machine learning"
   ]
  },
  {
   "attachments": {},
   "cell_type": "markdown",
   "metadata": {},
   "source": [
    "## Debugging a learning algorithm\n",
    "\n",
    "When it makes unacceptable predictions, it is important to:\n",
    "\n",
    "* Get more training examples\n",
    "* Try smaller sets of features\n",
    "* Try getting additional features\n",
    "* Try adding polynomial features\n",
    "* Try decreasing $\\lambda$\n",
    "* Try increasing $\\lambda$\n"
   ]
  },
  {
   "attachments": {},
   "cell_type": "markdown",
   "metadata": {},
   "source": [
    "## Evaluating your model\n",
    "\n",
    "### Model selection\n",
    "\n",
    "* Split data into two parts: training set and test set (e.g. 70% training, 30% test), the majority of the data is used for training and the rest for testing.\n",
    "\n",
    "#### Model selection and train/validation/test sets\n",
    "\n",
    "Split data into three parts: training set, cross validation set and test set (e.g. 60% training, 20% cross validation, 20% test). the cross validation set is used to select the model and the test set is used to estimate the generalization error.\n",
    "\n",
    "the cross validation also called **development set** or **dev set.**\n",
    "\n",
    "### Diagnostic\n",
    "\n",
    "the diagnostic is a useful way to debug learning algorithms, it is a test that you can run to gain insight what is/isn't working with a learning algorithm, and gain guidance as to how best to improve its performance."
   ]
  }
 ],
 "metadata": {
  "language_info": {
   "name": "python"
  },
  "orig_nbformat": 4
 },
 "nbformat": 4,
 "nbformat_minor": 2
}
