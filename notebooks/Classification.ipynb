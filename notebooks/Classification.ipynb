{
 "cells": [
  {
   "attachments": {},
   "cell_type": "markdown",
   "metadata": {},
   "source": [
    "## Classification"
   ]
  },
  {
   "attachments": {},
   "cell_type": "markdown",
   "metadata": {},
   "source": [
    "* Use Logistic Regression for binary classification\n",
    "* Implement Logistic regression for binary classification\n",
    "* Address overfitting using regularization, to improve model performance"
   ]
  },
  {
   "attachments": {},
   "cell_type": "markdown",
   "metadata": {},
   "source": [
    "#### binary classification\n",
    "$y$ can only be one of two values, 0 or 1. 0 is also called the negative class, and 1 the positive class.\n",
    "\n",
    "| Question | Answer $y$ |\n",
    "| --- | --- |\n",
    "| Is this email spam? | yes or no |\n",
    "| Is this tumor malignant? | yes or no |\n",
    "| Is the tumor malignant? | yes or no |\n",
    "| Does this patient have diabetes? | yes or no |\n",
    "| Is this image a dog? | yes or no |\n",
    "| ... | ... |"
   ]
  },
  {
   "attachments": {},
   "cell_type": "markdown",
   "metadata": {},
   "source": [
    "#### Logistic Regression\n",
    "Logistic regression is probably the single most important algorithm in the toolbox of any machine learning practitioner. It is the most fundamental algorithm for binary classification.\n",
    "\n",
    "\n",
    "#### logistic function or sigmoid function\n",
    "\n",
    "**Equation:** $g(z) = \\frac{1}{1+e^{-z}}$ ; 0 <= g(z) <= 1\n",
    "\n",
    "when z is positive large number, g(z) is close to 1\n",
    "\n",
    "when z is negative large number, g(z) is close to 0\n",
    "\n",
    "when z = 0, g(z) = 0.5 \n",
    "\n",
    "\n",
    "$$ f_{\\vec{W},b}(\\vec{X}) = \\vec{W}\\cdot\\vec{X} + b $$\n",
    "$$ z = \\vec{W}\\cdot\\vec{X} + b $$\n",
    "$$ f_{\\vec{W},b}(\\vec{X}) = g(z) = \\frac{1}{1+e^{-(\\vec{W}\\cdot\\vec{X} + b)}} $$\n",
    "\n",
    "**Probability notation** $f_{\\vec{W},b}(\\vec{X}) = P(y=1|\\vec{X};\\vec{W},b)$\n",
    "\n",
    "\n"
   ]
  },
  {
   "cell_type": "code",
   "execution_count": 1,
   "metadata": {},
   "outputs": [],
   "source": [
    "import numpy as np"
   ]
  },
  {
   "cell_type": "code",
   "execution_count": 3,
   "metadata": {},
   "outputs": [],
   "source": [
    "def sigmoid(z):\n",
    "    \"\"\"\n",
    "    Compute the sigmoid of z\n",
    "    args:\n",
    "        z (ndarray): A scalar or numpy array of any size\n",
    "    returns:\n",
    "        g (ndarray): sigmoid(z)\n",
    "    \"\"\"\n",
    "    g = 1 / (1 + np.exp(-z))\n",
    "    return g"
   ]
  },
  {
   "cell_type": "code",
   "execution_count": 6,
   "metadata": {},
   "outputs": [
    {
     "name": "stdout",
     "output_type": "stream",
     "text": [
      "[[-1.00000000e+01  4.53978687e-05]\n",
      " [-9.00000000e+00  1.23394576e-04]\n",
      " [-8.00000000e+00  3.35350130e-04]\n",
      " [-7.00000000e+00  9.11051194e-04]\n",
      " [-6.00000000e+00  2.47262316e-03]\n",
      " [-5.00000000e+00  6.69285092e-03]\n",
      " [-4.00000000e+00  1.79862100e-02]\n",
      " [-3.00000000e+00  4.74258732e-02]\n",
      " [-2.00000000e+00  1.19202922e-01]\n",
      " [-1.00000000e+00  2.68941421e-01]\n",
      " [ 0.00000000e+00  5.00000000e-01]\n",
      " [ 1.00000000e+00  7.31058579e-01]\n",
      " [ 2.00000000e+00  8.80797078e-01]\n",
      " [ 3.00000000e+00  9.52574127e-01]\n",
      " [ 4.00000000e+00  9.82013790e-01]\n",
      " [ 5.00000000e+00  9.93307149e-01]\n",
      " [ 6.00000000e+00  9.97527377e-01]\n",
      " [ 7.00000000e+00  9.99088949e-01]\n",
      " [ 8.00000000e+00  9.99664650e-01]\n",
      " [ 9.00000000e+00  9.99876605e-01]\n",
      " [ 1.00000000e+01  9.99954602e-01]]\n"
     ]
    }
   ],
   "source": [
    "z_tmp = np.arange(-10, 11)\n",
    "\n",
    "y = sigmoid(z_tmp)\n",
    "print(np.c_[z_tmp, y])"
   ]
  },
  {
   "cell_type": "code",
   "execution_count": 10,
   "metadata": {},
   "outputs": [
    {
     "data": {
      "image/png": "[encoded data removed]",
      "text/plain": [
       "<Figure size 640x480 with 1 Axes>"
      ]
     },
     "metadata": {},
     "output_type": "display_data"
    }
   ],
   "source": [
    "\n",
    "import matplotlib.pyplot as plt\n",
    "# plot z vs sigmoid(z)\n",
    "plt.plot(z_tmp, y)\n",
    "plt.xlabel('z')\n",
    "plt.ylabel('sigmoid(z)')\n",
    "plt.show()"
   ]
  },
  {
   "attachments": {},
   "cell_type": "markdown",
   "metadata": {},
   "source": [
    "### Decision Boundary\n",
    "\n",
    "Is the line that separates the area where y = 0 and where y = 1. It is created by our hypothesis function.\n",
    "\n",
    "Is $f_{\\vec{W},b}(\\vec{X}) >= 0.5$ or $f_{\\vec{W},b}(\\vec{X}) < 0.5$ ?\n",
    "\n",
    "$yes: = 1 $ $no: = 0 $\n",
    "\n",
    "|When is $f_{\\vec{W},b}(\\vec{X}) >= 0.5$ ?|When is $f_{\\vec{W},b}(\\vec{X}) < 0.5$ ?|\n",
    "| --- | --- |\n",
    "|$$g(z) >= 0.5$$|$$g(z) < 0.5$$|\n",
    "|$$z >= 0$$ |$$z < 0$$|\n",
    "|$$\\vec{W}\\cdot\\vec{X} + b >= 0$$|$$\\vec{W}\\cdot\\vec{X} + b < 0$$|\n",
    "|$$\\hat{y} = 1$$|$$\\hat{y} = 0$$|\n",
    "\n",
    "\n",
    "The line of the decission boundary is defined by the equation $\\vec{W}\\cdot\\vec{X} + b = 0$"
   ]
  }
 ],
 "metadata": {
  "kernelspec": {
   "display_name": "jupyter",
   "language": "python",
   "name": "python3"
  },
  "language_info": {
   "codemirror_mode": {
    "name": "ipython",
    "version": 3
   },
   "file_extension": ".py",
   "mimetype": "text/x-python",
   "name": "python",
   "nbconvert_exporter": "python",
   "pygments_lexer": "ipython3",
   "version": "3.11.3"
  },
  "orig_nbformat": 4
 },
 "nbformat": 4,
 "nbformat_minor": 2
}
