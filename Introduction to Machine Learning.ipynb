{
 "cells": [
  {
   "attachments": {},
   "cell_type": "markdown",
   "metadata": {},
   "source": [
    "#### Machine Learning\n",
    "\n",
    "##### ¿What is machine learning?\n",
    "Machine learning is a sub-field of computer science and artificial intelligence that uses data and algorithms to imitate the way that humans learn gradually improving its accuracy.\n",
    "\n",
    "##### ¿Where is machine learning used?\n",
    "\n",
    "- **Image recognition** for example, Facebook uses machine learning to recognize faces in photos.\n",
    "- **Speech recognition** for example, Siri uses machine learning to recognize your voice and improve its ability to understand you.\n",
    "- **Medical diagnosis** for example, machine learning is used to detect cancer cells in blood samples.\n",
    "- **Statistical arbitrage** for example, machine learning is used to predict the price of stocks.\n",
    "- **Suggestions content** for example, machine learning is used to suggest what you should buy or watch next on Netflix.\n",
    "- **Fraud detection** for example, machine learning is used to detect unusual patterns in credit card transactions.\n",
    "- **Translation** for example, Google uses machine learning to translate text from one language to another.\n",
    "- **Robot locomotion** for example, machine learning is used to teach robots how to walk.\n",
    "- **Self-driving cars** for example, machine learning is used to avoid accidents.\n",
    "- etc.\n"
   ]
  },
  {
   "attachments": {},
   "cell_type": "markdown",
   "metadata": {},
   "source": [
    "#### Supervised learning - Regression\n",
    "Supervised learning is the machine learning task of learning a function that maps an input to an output based on example input-output pairs.\n",
    "\n",
    "| Input  | Output | Application |\n",
    "| ------------- | ------------- | ------------- |\n",
    "| Email  | Spam or not spam | Email spam classification |\n",
    "| Audio  | Text transcript | Speech recognition |\n",
    "| English | Chinese | Machine translation |\n",
    "| Image | Object in the image | Object recognition |\n",
    "| ad, user info | click or not | Click prediction |\n",
    "| etc. | etc. | etc. |\n",
    "\n"
   ]
  },
  {
   "attachments": {},
   "cell_type": "markdown",
   "metadata": {},
   "source": [
    "#### Unsupervised Learning - Clustering\n",
    "Unsupervised learning is the machine learning task of inferring a function to describe hidden structure from \"unlabeled\" data ( a classification or categorization is not included in the observations )."
   ]
  },
  {
   "attachments": {},
   "cell_type": "markdown",
   "metadata": {},
   "source": [
    "#### Regression Model"
   ]
  },
  {
   "attachments": {},
   "cell_type": "markdown",
   "metadata": {},
   "source": [
    "#### Cost Function"
   ]
  },
  {
   "attachments": {},
   "cell_type": "markdown",
   "metadata": {},
   "source": [
    "#### Gradient Descent"
   ]
  },
  {
   "attachments": {},
   "cell_type": "markdown",
   "metadata": {},
   "source": [
    "##### Optimize a regression model using gradient descen"
   ]
  }
 ],
 "metadata": {
  "kernelspec": {
   "display_name": "jupyter",
   "language": "python",
   "name": "python3"
  },
  "language_info": {
   "codemirror_mode": {
    "name": "ipython",
    "version": 3
   },
   "file_extension": ".py",
   "mimetype": "text/x-python",
   "name": "python",
   "nbconvert_exporter": "python",
   "pygments_lexer": "ipython3",
   "version": "3.11.3"
  },
  "orig_nbformat": 4
 },
 "nbformat": 4,
 "nbformat_minor": 2
}
